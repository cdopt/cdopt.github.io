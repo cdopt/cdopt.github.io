{
 "cells": [
  {
   "cell_type": "markdown",
   "id": "93795c68",
   "metadata": {},
   "source": [
    "# Bose–Einstein Condensates\n",
    "\n",
    "## Problem Description\n",
    "In Bose–Einstein condensates (BEC), under some proper discretization, such as finite difference, sine pseudospectral and Fourier pseudospectral methods, we obtain its discrete version as\n",
    "\n",
    "$$\n",
    "\\begin{aligned}\n",
    "    \\min_{X \\in \\mathbb{C}^{n}}\\quad & \\frac{1}{2} x^H A x + \\frac{\\alpha}{2}  \\sum_{i = 1}^n |x_i|^4  \\\\\n",
    "    \\text{s. t.} \\quad &  ||x||_2 = 1,\n",
    "\\end{aligned}\n",
    "$$\n",
    "\n",
    "where $A$ is a Hermitian matirx, and $\\alpha$ is a parameter. Consider a simplified cases where $x$ and $A$ are both real, we each the following optimization problem over the sphere,\n",
    "\n",
    "$$\n",
    "\\begin{aligned}\n",
    "    \\min_{X \\in \\mathbb{R}^{n}}\\quad & \\frac{1}{2} x^H A x + \\frac{\\alpha}{2}  \\sum_{i = 1}^n |x_i|^4  \\\\\n",
    "    \\text{s. t.} \\quad &  ||x||_2 = 1,\n",
    "\\end{aligned}\n",
    "$$\n",
    "\n",
    "In this part, we aim to show how to solve these problems with `cdopt` package."
   ]
  },
  {
   "cell_type": "markdown",
   "id": "9cc7d7d3",
   "metadata": {},
   "source": [
    "## Importing modules\n",
    "We first import all the necessary modules for this optimization problem. "
   ]
  },
  {
   "cell_type": "code",
   "execution_count": 1,
   "id": "666297ae",
   "metadata": {},
   "outputs": [
    {
     "name": "stdout",
     "output_type": "stream",
     "text": [
      "Error importing backbone_jax Possibly JAX is not installed.\n",
      "No JAX package installed\n"
     ]
    }
   ],
   "source": [
    "import cdopt \n",
    "import numpy as np\n",
    "import scipy as sp\n",
    "from scipy.sparse import csr_matrix, diags\n",
    "from scipy.sparse.linalg import spsolve\n",
    "import time\n",
    "import autograd \n",
    "import autograd.numpy as anp"
   ]
  },
  {
   "cell_type": "markdown",
   "id": "a4afd96d",
   "metadata": {},
   "source": [
    "## Generating datas\n",
    "We generate necessary data. Notice that $L$ is a sparse matrix, we apply the functions from `scipy.sparse` to accelerate the computation. \n"
   ]
  },
  {
   "cell_type": "code",
   "execution_count": 2,
   "id": "ecd0b362",
   "metadata": {},
   "outputs": [],
   "source": [
    "n = 1000\n",
    "alpha = 1\n",
    "A = np.ones((n,n))\n"
   ]
  },
  {
   "cell_type": "markdown",
   "id": "6b94453b",
   "metadata": {},
   "source": [
    "## Set functions and problems\n",
    "\n",
    "Then we set the objective function and the Stiefel manifold. \n",
    "Notice that all the existing AD packages has limited support for operations on sparse matrices, we manually define the gradient and Hessian-vector product of the objective function. "
   ]
  },
  {
   "cell_type": "code",
   "execution_count": 3,
   "id": "474fe6ed",
   "metadata": {},
   "outputs": [],
   "source": [
    "def obj_fun(X):\n",
    "    return 0.5 * anp.sum( X* (A @ X) ) + alpha * anp.sum( X ** 4 )\n",
    "\n",
    "\n",
    "M = cdopt.manifold_np.sphere_np((n,1))   # The sphere"
   ]
  },
  {
   "cell_type": "markdown",
   "id": "4a5bffa6",
   "metadata": {},
   "source": [
    "## Describe the optimization problem \n",
    "\n",
    "The optimization problem can be described by the manifold and the drivatives of objective function. "
   ]
  },
  {
   "cell_type": "code",
   "execution_count": 4,
   "id": "7ea0aee3",
   "metadata": {},
   "outputs": [],
   "source": [
    "problem_test = cdopt.core.Problem(M, obj_fun, beta = 30)  # describe the optimization problem and set the penalty parameter \\beta.\n"
   ]
  },
  {
   "cell_type": "markdown",
   "id": "bfe8531a",
   "metadata": {},
   "source": [
    "## Apply optimization solvers\n",
    "\n",
    "After describe the optimization problem, we can directly function value, gradient and Hessian-vector product from the `cdopt.core.Problem` class. "
   ]
  },
  {
   "cell_type": "code",
   "execution_count": 5,
   "id": "d39789d2",
   "metadata": {},
   "outputs": [
    {
     "name": "stdout",
     "output_type": "stream",
     "text": [
      "Solver   fval         iter   f_eval   stationarity   feaibility     CPU time\n",
      "& L-BFGS & 1.00e-03  & 667  & 893    & 9.87e-06     & 1.64e-07     & 1.10 \\\\\n"
     ]
    }
   ],
   "source": [
    "# the vectorized function value, gradient and Hessian-vector product of the constraint dissolving function. Their inputs are numpy 1D array, and their outputs are float or numpy 1D array.\n",
    "cdf_fun_np = problem_test.cdf_fun_vec_np   \n",
    "cdf_grad_np = problem_test.cdf_grad_vec_np \n",
    "cdf_hvp_np = problem_test.cdf_hvp_vec_np\n",
    "\n",
    "\n",
    "## Apply limit memory BFGS solver from scipy.minimize \n",
    "from scipy.optimize import fmin_bfgs, fmin_cg, fmin_l_bfgs_b, fmin_ncg\n",
    "Xinit = M.tensor2array(M.Init_point())  # set initial point\n",
    "\n",
    "t_start = time.time()\n",
    "out_msg = sp.optimize.minimize(cdf_fun_np, Xinit.flatten(),method='L-BFGS-B',jac = cdf_grad_np, options={'disp': None, 'maxcor': 10, 'ftol': 0, 'gtol': 1e-06, 'eps': 0e-08,})\n",
    "t_end = time.time() - t_start\n",
    "\n",
    "# Statistics\n",
    "feas = M.Feas_eval(M.v2m(M.array2tensor(out_msg.x)))   # Feasibility\n",
    "stationarity = np.linalg.norm(out_msg['jac'],2)   # stationarity\n",
    "\n",
    "result_lbfgs = [out_msg['fun'], out_msg['nit'], out_msg['nfev'],stationarity,feas, t_end]\n",
    "\n",
    "# print results\n",
    "print('Solver   fval         iter   f_eval   stationarity   feaibility     CPU time')\n",
    "print('& L-BFGS & {:.2e}  & {:}  & {:}    & {:.2e}     & {:.2e}     & {:.2f} \\\\\\\\'.format(*result_lbfgs))"
   ]
  },
  {
   "cell_type": "markdown",
   "id": "4002ebf2",
   "metadata": {},
   "source": [
    "## Reference\n",
    "1.  Hu J, Jiang B, Liu X, et al. A note on semidefinite programming relaxations for polynomial optimization over a single sphere[J]. Science China Mathematics, 2016, 59(8): 1543-1560."
   ]
  },
  {
   "cell_type": "markdown",
   "id": "a2976304",
   "metadata": {},
   "source": []
  }
 ],
 "metadata": {
  "interpreter": {
   "hash": "07d5d4ebd289d7e3a8d5104fbc288ece76787e92d17b572773bddf91a0286b7c"
  },
  "kernelspec": {
   "display_name": "Python 3.10.4 ('cdopt')",
   "language": "python",
   "name": "python3"
  },
  "language_info": {
   "codemirror_mode": {
    "name": "ipython",
    "version": 3
   },
   "file_extension": ".py",
   "mimetype": "text/x-python",
   "name": "python",
   "nbconvert_exporter": "python",
   "pygments_lexer": "ipython3",
   "version": "3.10.4"
  }
 },
 "nbformat": 4,
 "nbformat_minor": 5
}
